{
 "cells": [
  {
   "cell_type": "code",
   "execution_count": 45,
   "metadata": {},
   "outputs": [],
   "source": [
    "'''VECTORS'''\n",
    "\n",
    "#Best way to represent data is to vectorize them\n",
    "#Some useful vector\n",
    "\n",
    "import math\n",
    "import numpy as np\n",
    "import collections\n",
    "\n",
    "x = np.array([1,2,3,4,5,6,7])\n",
    "y = np.array([14,15,16,17,18,19,20])\n",
    "vector = np.array([[1,2,3,4,5,6,7],[1,2,3,4,5,6,7]])\n",
    "\n",
    "def addingvectors(x, y):\n",
    "    return [x_i + y_i for x_i, y_i in zip(x,y)]\n",
    "\n",
    "def subtractingvectors(x, y):\n",
    "    return [x_i - y_i for x_i, y_i in zip(x,y)]\n",
    "\n",
    "def summation(vector):\n",
    "    result = vector[0]\n",
    "    for vect in vector[1:]:\n",
    "        result = addingvectors(result, vect)\n",
    "    return result\n",
    "\n",
    "def multiplyscalar(a, vector):\n",
    "    return [a* v_i for v_i in vector]\n",
    "\n",
    "def mean(vector):\n",
    "    n = len(vector)\n",
    "    return multiplyscalar(1/n, vector)\n",
    "\n",
    "def dotproduct(x, y):\n",
    "    return sum( x_i * y_i for x_i, y_i in zip(x,y))\n",
    "\n",
    "def sumofsquares(x):\n",
    "    return dotproduct(x, x)\n",
    "\n",
    "def vectormagnitude(vector):\n",
    "    return math.sqrt(sumofsquares(vector))\n",
    "\n",
    "def vectordistance(x, y):\n",
    "    return math.sqrt(sumofsquares(subtractingvectors(x, y)))\n"
   ]
  },
  {
   "cell_type": "code",
   "execution_count": 55,
   "metadata": {},
   "outputs": [
    {
     "name": "stdout",
     "output_type": "stream",
     "text": [
      "[1, 2, 4]\n"
     ]
    }
   ],
   "source": [
    "'''MATRICES'''\n",
    "#Use capital letters to denote matrices [convention]\n",
    "\n",
    "A = [[1, 2, 3],\n",
    "    [4, 5, 6],\n",
    "    [7, 8, 9]]\n",
    "\n",
    "B = [[9, 8, 7],\n",
    "    [6, 5, 4],\n",
    "    [3, 2, 1]]\n",
    "\n",
    "def gettingshape(X):\n",
    "    num_row = len(X)\n",
    "    num_col = len(X[0]) if X else 0\n",
    "    return [num_row, num_col]\n",
    "\n",
    "def getrow(X, n):\n",
    "    return X[n-1][:]\n",
    "\n",
    "def getcol(X, n):\n",
    "    return [X_i[n-1] for X_i in X]\n",
    "\n",
    "def makeMatrix(n_r, n_c, func):\n",
    "    return [[func(i, j) for j in range(n_c)] for i in range(n_r)]\n",
    "\n",
    "def diagonal(i, j):\n",
    "    return 1 if i==j else 0\n",
    "\n",
    "friendships = [[0, 1, 1, 0, 0, 0, 0, 0, 0, 0], # user 0\n",
    "                [1, 0, 1, 1, 0, 0, 0, 0, 0, 0], # user 1\n",
    "                [1, 1, 0, 1, 0, 0, 0, 0, 0, 0], # user 2\n",
    "                [0, 1, 1, 0, 1, 0, 0, 0, 0, 0], # user 3\n",
    "                [0, 0, 0, 1, 0, 1, 0, 0, 0, 0], # user 4\n",
    "                [0, 0, 0, 0, 1, 0, 1, 1, 0, 0], # user 5\n",
    "                [0, 0, 0, 0, 0, 1, 0, 0, 1, 0], # user 6\n",
    "                [0, 0, 0, 0, 0, 1, 0, 0, 1, 0], # user 7\n",
    "                [0, 0, 0, 0, 0, 0, 1, 1, 0, 1], # user 8\n",
    "                [0, 0, 0, 0, 0, 0, 0, 0, 1, 0]] # user 9\n",
    "\n",
    "def checkiffriend(x, y):\n",
    "    return friendships[x][y]\n",
    "\n",
    "def createfriends(x):\n",
    "    return [x_i for x_i, i in enumerate(friendships[x]) if checkiffriend(x, i)]\n",
    "\n",
    "print(createfriends(3))"
   ]
  },
  {
   "cell_type": "code",
   "execution_count": null,
   "metadata": {},
   "outputs": [],
   "source": []
  }
 ],
 "metadata": {
  "kernelspec": {
   "display_name": "Python 3",
   "language": "python",
   "name": "python3"
  },
  "language_info": {
   "codemirror_mode": {
    "name": "ipython",
    "version": 3
   },
   "file_extension": ".py",
   "mimetype": "text/x-python",
   "name": "python",
   "nbconvert_exporter": "python",
   "pygments_lexer": "ipython3",
   "version": "3.6.2"
  }
 },
 "nbformat": 4,
 "nbformat_minor": 2
}
