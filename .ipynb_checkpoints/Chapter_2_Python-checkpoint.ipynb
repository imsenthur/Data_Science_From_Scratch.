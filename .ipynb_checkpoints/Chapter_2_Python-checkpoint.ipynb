{
 "cells": [
  {
   "cell_type": "code",
   "execution_count": 1,
   "metadata": {},
   "outputs": [],
   "source": [
    "#Python basics required for data science.\n",
    "\n",
    "#importance of whitespace formating.\n",
    "#Functions\n",
    "\n",
    "'''STRINGS'''\n",
    "\n",
    "'''Printing Backslashes'''\n",
    "a = r\"\\t\"\n",
    "#print(a, len(a))"
   ]
  },
  {
   "cell_type": "code",
   "execution_count": 2,
   "metadata": {},
   "outputs": [],
   "source": [
    "'''Creating a multiline string'''\n",
    "\n",
    "longstring = '''hello world, this is a mulitline string. I just wanna say this is lame.'''\n",
    "ordinary_string = \"hello world, this is a mulitline string. I just wanna say this is lame.\"\n",
    "#print(longstring, \"\\n\", ordinary_string)"
   ]
  },
  {
   "cell_type": "code",
   "execution_count": 3,
   "metadata": {},
   "outputs": [],
   "source": [
    "'''EXCEPTIONS'''\n",
    "\n",
    "try:\n",
    "    pass\n",
    "    #print(a)\n",
    "except:\n",
    "    pass\n",
    "    "
   ]
  },
  {
   "cell_type": "code",
   "execution_count": 4,
   "metadata": {},
   "outputs": [],
   "source": [
    "'''LISTS'''\n",
    "\n",
    "integer_list = [1, 2, 3]\n",
    "mixed_list = [[4,5,6,7], \"Hello\", 1, \"a\"]\n",
    "length = len(mixed_list)\n",
    "addition = sum(integer_list)\n",
    "#print(length, addition)\n",
    "\n",
    "x = range(10)\n",
    "last_element = x[-1]\n",
    "last_last_before = x[-2]\n",
    "#print(last_element, last_last_before)\n",
    "\n",
    "from_three = x[3:]\n",
    "till_three = x[:3]\n",
    "last_four = x[-4:]\n",
    "inbetween = x[-2:2]\n",
    "copy = x[:]\n",
    "#print(copy)\n",
    "\n",
    "flag = 2 in x\n",
    "#print(flag)\n",
    "\n",
    "for i in x:\n",
    "    try:\n",
    "        pass\n",
    "    except:\n",
    "        pass\n",
    "\n",
    "x = [1,2,3]\n",
    "x.extend([2,3,4])\n",
    "#print(x)\n",
    "\n",
    "x.append(9)\n",
    "#print(x[-5:])\n",
    "\n",
    "_, _, value = [1,2,3]\n",
    "#print(value)"
   ]
  },
  {
   "cell_type": "code",
   "execution_count": 5,
   "metadata": {},
   "outputs": [],
   "source": [
    "'''TUPLES'''\n",
    "\n",
    "tuple_ = (1,2,3,4)\n",
    "also_a_tuple = 2,3,4,5,6"
   ]
  },
  {
   "cell_type": "code",
   "execution_count": 6,
   "metadata": {},
   "outputs": [],
   "source": [
    "'''DICTIONARIES'''\n",
    "\n",
    "empty_dict = {}\n",
    "also_an_empty_dict = dict()\n",
    "dictionary = {\"Senthur\":10, \"Bhuvi\":11, \"Karthi\":12, \"mom\":13}\n",
    "\n",
    "#accessing values with keys\n",
    "value = dictionary[\"mom\"]\n",
    "#print(value)\n",
    "\n",
    "#checking for a key\n",
    "flag = \"mom\" in dictionary\n",
    "#print(flag)\n",
    "\n",
    "#the get method of dictionaries\n",
    "grade = dictionary.get(\"Hp\", 0)   #There's no HP in the dictionary but doesnt throw an exception (:\n",
    "#print(grade)\n",
    "\n",
    "#appending\n",
    "dictionary[\"Hp\"] = 14\n",
    "#print(dictionary)\n",
    "\n",
    "#retrieving data\n",
    "values = dictionary.values()\n",
    "keys = dictionary.keys()\n",
    "items = dictionary.items()    #returns a tuple of (key, value)\n",
    "#print(values, keys, items)\n",
    "\n",
    "#use of defaultdict()\n",
    "#multiple approaches to count the number of words in a document\n",
    "\n",
    "document = {}\n",
    "word_count = {}\n",
    "\n",
    "#usual method\n",
    "for word in document:\n",
    "    try:\n",
    "        word_count[word] += 1\n",
    "    except KeyError:\n",
    "        word_count[word] = 1\n",
    "\n",
    "#get method\n",
    "for word in document:\n",
    "    prev_count = word_count.get(word, 0)\n",
    "    word_count[word] = prev_count + 1\n",
    "    \n",
    "#defaultdict method\n",
    "from collections import defaultdict\n",
    "\n",
    "word_counts = defaultdict(int)\n",
    "for word in document:\n",
    "    word_counts[word] += 1\n",
    "    \n",
    "'''Counters'''\n",
    "from collections import Counter\n",
    "\n",
    "c = Counter([0, 1, 2, 3, 0, 1, 5, 6, 2, 3, 1, 0])\n",
    "#print(c)\n",
    "\n",
    "word_count = Counter(document)\n",
    "\n",
    "#to print the most common words\n",
    "for word, count in word_count.most_common(10):\n",
    "    print(word, count)\n",
    "    "
   ]
  },
  {
   "cell_type": "code",
   "execution_count": 7,
   "metadata": {},
   "outputs": [],
   "source": [
    "'''SETS'''\n",
    "\n",
    "#distinct elements\n",
    "\n",
    "normal_list = [1, 2, 3, 4, 5, 6, 1, 2, 0 ,5]\n",
    "normal_set = set(normal_list)\n",
    "#print(normal_set, len(normal_set))\n",
    "\n",
    "#faster \"in\" operation\n"
   ]
  },
  {
   "cell_type": "code",
   "execution_count": 10,
   "metadata": {},
   "outputs": [],
   "source": [
    "'''CONTROL FLOW'''\n",
    "\n",
    "#if statements\n",
    "x = 2\n",
    "parity = \"even\" if x%2 == 0 else \"odd\"\n",
    "#print(parity)\n",
    "\n",
    "for x in range(10):\n",
    "    pass\n",
    "    #print(\"this is how we do.\")"
   ]
  },
  {
   "cell_type": "code",
   "execution_count": 13,
   "metadata": {},
   "outputs": [],
   "source": [
    "'''TRUTHINESS'''\n",
    "\n",
    "#booleans and how they're treated\n",
    "y = None\n",
    "#print(y is None)"
   ]
  },
  {
   "cell_type": "code",
   "execution_count": null,
   "metadata": {},
   "outputs": [],
   "source": []
  }
 ],
 "metadata": {
  "kernelspec": {
   "display_name": "Python 3",
   "language": "python",
   "name": "python3"
  },
  "language_info": {
   "codemirror_mode": {
    "name": "ipython",
    "version": 3
   },
   "file_extension": ".py",
   "mimetype": "text/x-python",
   "name": "python",
   "nbconvert_exporter": "python",
   "pygments_lexer": "ipython3",
   "version": "3.6.2"
  }
 },
 "nbformat": 4,
 "nbformat_minor": 2
}
