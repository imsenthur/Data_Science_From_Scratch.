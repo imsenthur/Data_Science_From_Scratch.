{
 "cells": [
  {
   "cell_type": "code",
   "execution_count": 1,
   "metadata": {},
   "outputs": [
    {
     "name": "stdout",
     "output_type": "stream",
     "text": [
      "\\t 2\n"
     ]
    }
   ],
   "source": [
    "#Python basics required for data science.\n",
    "\n",
    "#importance of whitespace formating.\n",
    "#Functions\n",
    "\n",
    "'''STRINGS'''\n",
    "\n",
    "'''Printing Backslashes'''\n",
    "a = r\"\\t\"\n",
    "print(a, len(a))"
   ]
  },
  {
   "cell_type": "code",
   "execution_count": 6,
   "metadata": {},
   "outputs": [
    {
     "name": "stdout",
     "output_type": "stream",
     "text": [
      "hello world, this is a mulitline string. I just wanna say this is lame. \n",
      " hello world, this is a mulitline string. I just wanna say this is lame.\n"
     ]
    }
   ],
   "source": [
    "'''Creating a multiline string'''\n",
    "\n",
    "longstring = '''hello world, this is a mulitline string. I just wanna say this is lame.'''\n",
    "ordinary_string = \"hello world, this is a mulitline string. I just wanna say this is lame.\"\n",
    "print(longstring, \"\\n\", ordinary_string)"
   ]
  },
  {
   "cell_type": "code",
   "execution_count": 7,
   "metadata": {},
   "outputs": [
    {
     "name": "stdout",
     "output_type": "stream",
     "text": [
      "\\t\n"
     ]
    }
   ],
   "source": [
    "'''EXCEPTIONS'''\n",
    "\n",
    "try:\n",
    "    print(a)\n",
    "except:\n",
    "    pass\n",
    "    "
   ]
  },
  {
   "cell_type": "code",
   "execution_count": 43,
   "metadata": {},
   "outputs": [],
   "source": [
    "'''LISTS'''\n",
    "\n",
    "integer_list = [1, 2, 3]\n",
    "mixed_list = [[4,5,6,7], \"Hello\", 1, \"a\"]\n",
    "length = len(mixed_list)\n",
    "addition = sum(integer_list)\n",
    "#print(length, addition)\n",
    "\n",
    "x = range(10)\n",
    "last_element = x[-1]\n",
    "last_last_before = x[-2]\n",
    "#print(last_element, last_last_before)\n",
    "\n",
    "from_three = x[3:]\n",
    "till_three = x[:3]\n",
    "last_four = x[-4:]\n",
    "inbetween = x[-2:2]\n",
    "copy = x[:]\n",
    "#print(copy)\n",
    "\n",
    "flag = 2 in x\n",
    "#print(flag)\n",
    "\n",
    "for i in x:\n",
    "    try:\n",
    "        pass\n",
    "    except:\n",
    "        pass\n",
    "\n",
    "x = [1,2,3]\n",
    "x.extend([2,3,4])\n",
    "#print(x)\n",
    "\n",
    "x.append(9)\n",
    "#print(x[-5:])\n",
    "\n",
    "_, _, value = [1,2,3]\n",
    "#print(value)"
   ]
  },
  {
   "cell_type": "code",
   "execution_count": 45,
   "metadata": {},
   "outputs": [],
   "source": [
    "'''TUPLES'''\n",
    "\n",
    "tuple_ = (1,2,3,4)\n",
    "also_a_tuple = 2,3,4,5,6"
   ]
  },
  {
   "cell_type": "code",
   "execution_count": null,
   "metadata": {},
   "outputs": [],
   "source": [
    "'''DICTIONARIES'''\n",
    "#accessing values with \"keys\"\n",
    "\n",
    "\n",
    "\n"
   ]
  }
 ],
 "metadata": {
  "kernelspec": {
   "display_name": "Python 3",
   "language": "python",
   "name": "python3"
  },
  "language_info": {
   "codemirror_mode": {
    "name": "ipython",
    "version": 3
   },
   "file_extension": ".py",
   "mimetype": "text/x-python",
   "name": "python",
   "nbconvert_exporter": "python",
   "pygments_lexer": "ipython3",
   "version": "3.6.2"
  }
 },
 "nbformat": 4,
 "nbformat_minor": 2
}
