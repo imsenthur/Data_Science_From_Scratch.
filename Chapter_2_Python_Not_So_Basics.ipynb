{
 "cells": [
  {
   "cell_type": "code",
   "execution_count": 11,
   "metadata": {},
   "outputs": [
    {
     "name": "stdout",
     "output_type": "stream",
     "text": [
      "True\n"
     ]
    }
   ],
   "source": [
    "'''SORTING'''\n",
    "x = [5, 2, 1, 3, 9, 10, 15, 13, 14, 21]\n",
    "y = sorted(x, key=abs, reverse=False)\n",
    "x.sort()\n",
    "print(x==y)"
   ]
  },
  {
   "cell_type": "code",
   "execution_count": 19,
   "metadata": {},
   "outputs": [],
   "source": [
    "'''LIST COMPREHENSION'''\n",
    "squares = [a * a for a in x]\n",
    "odd_numbers = [a for a in x if a%2 != 0]\n",
    "#print(squares, odd_numbers)\n",
    "\n",
    "#dict conversion\n",
    "dict_numbers = {x: x*x + x for x in squares}\n",
    "pairs = {x:y for x in squares for y in odd_numbers}\n",
    "#print(dict_numbers, pairs)"
   ]
  },
  {
   "cell_type": "code",
   "execution_count": 37,
   "metadata": {},
   "outputs": [
    {
     "name": "stdout",
     "output_type": "stream",
     "text": [
      "[0.4288890546751146, 0.5780913011344704, 0.20609823213950174, 0.81332125135732, 0.8235888725334455, 0.6534725339011758, 0.16022955651881965, 0.5206693596399246, 0.32777281162209315, 0.24999667668640035]\n",
      "0.5714025946899135\n",
      "3\n"
     ]
    }
   ],
   "source": [
    "'''GENERATORS AND RANDOMNESS'''\n",
    "import random\n",
    "random_values = [random.random() for _ in range(10)]\n",
    "print(random_values)\n",
    "\n",
    "#reproducible random values\n",
    "random.seed(10)\n",
    "print(random.random())\n",
    "random.seed(10)\n",
    "#print(random.random())\n",
    "\n",
    "#interval\n",
    "print(random.randrange(3,7))"
   ]
  },
  {
   "cell_type": "code",
   "execution_count": 44,
   "metadata": {},
   "outputs": [
    {
     "name": "stdout",
     "output_type": "stream",
     "text": [
      "[169, 25, 196, 4, 441, 100, 9, 225, 1, 81]\n",
      "81\n"
     ]
    }
   ],
   "source": [
    "#shuffling\n",
    "random.shuffle(squares)\n",
    "print(squares)\n",
    "\n",
    "#random picking\n",
    "best_number = random.choice(squares)\n",
    "print(best_number)"
   ]
  },
  {
   "cell_type": "code",
   "execution_count": 48,
   "metadata": {},
   "outputs": [
    {
     "name": "stdout",
     "output_type": "stream",
     "text": [
      "[12, 22, 27, 26, 28]\n",
      "[4, 5, 3, 3, 2]\n"
     ]
    }
   ],
   "source": [
    "#random sampling\n",
    "lottery_numbers = range(60)\n",
    "winners = random.sample(lottery_numbers, 5)\n",
    "print(winners)\n",
    "\n",
    "#with repetitions\n",
    "x = [1,2,3,4,5,6,7,8]\n",
    "repeated_sample = [random.choice(x) for _ in range(5)]\n",
    "print(repeated_sample)"
   ]
  },
  {
   "cell_type": "code",
   "execution_count": 61,
   "metadata": {},
   "outputs": [
    {
     "name": "stdout",
     "output_type": "stream",
     "text": [
      "<_sre.SRE_Match object; span=(0, 1), match='a'> <_sre.SRE_Match object; span=(0, 1), match='c'> ['b', 'n', 'n', 'n', ''] c$t\n"
     ]
    }
   ],
   "source": [
    "'''REGULAR EXPRESSIONS'''\n",
    "import re\n",
    "print(re.match(\"a\",\"a\"), re.search(\"c\", \"cat\"), re.split(\"a\", \"bananana\"), re.sub(\"a\",\"$\",\"cat\"))"
   ]
  },
  {
   "cell_type": "code",
   "execution_count": 16,
   "metadata": {},
   "outputs": [
    {
     "name": "stdout",
     "output_type": "stream",
     "text": [
      "True\n"
     ]
    }
   ],
   "source": [
    "'''OBJECT ORIENTED PROGRAMMING'''\n",
    "class PascalCase:\n",
    "    def __init__(self, values):\n",
    "        self.dict = {}\n",
    "        if values is not None:\n",
    "            for value in values:\n",
    "                self.add(value)\n",
    "                \n",
    "    def add(self, value):\n",
    "        self.dict[value] = True\n",
    "        \n",
    "    def contains(self, value):\n",
    "        return value in self.dict\n",
    "    \n",
    "    def reduce(self, value):\n",
    "        del self.dict[value]\n",
    "    \n",
    "s = PascalCase([1,2,3,4,5,6,7,8])\n",
    "s.add(9)\n",
    "print(s.contains(9))"
   ]
  },
  {
   "cell_type": "code",
   "execution_count": 17,
   "metadata": {},
   "outputs": [
    {
     "name": "stdout",
     "output_type": "stream",
     "text": [
      "81\n"
     ]
    }
   ],
   "source": [
    "'''FUNCTIONAL TOOLS'''\n",
    "def exp(var, power):\n",
    "    return var ** power\n",
    "\n",
    "#now creating a function to square variables\n",
    "from functools import partial\n",
    "two_to_the = partial(exp, power=2)\n",
    "print(two_to_the(9))"
   ]
  },
  {
   "cell_type": "code",
   "execution_count": 26,
   "metadata": {},
   "outputs": [
    {
     "name": "stdout",
     "output_type": "stream",
     "text": [
      "<map object at 0x0000018DFBC19860>\n"
     ]
    }
   ],
   "source": [
    "#map, reduce, filter\n",
    "def double(x):\n",
    "    return x*2\n",
    "xs = [1,2,3,4,5,6,7,8,9]\n",
    "doubles = [double(x) for x in xs]\n",
    "map_doubles = map(double, xs)\n",
    "\n",
    "list_doubler = partial(map, double)\n",
    "partial_doubles = list_doubler(xs)\n",
    "#print(partial_doubles)"
   ]
  },
  {
   "cell_type": "code",
   "execution_count": 27,
   "metadata": {},
   "outputs": [
    {
     "name": "stdout",
     "output_type": "stream",
     "text": [
      "<filter object at 0x0000018DFBC10A90>\n"
     ]
    }
   ],
   "source": [
    "#filter\n",
    "def is_even(x):\n",
    "    return x%2 == 0\n",
    "\n",
    "values = [1, 2, 3, 4, 5, 6, 7, 8]\n",
    "evens = filter(is_even, values)\n",
    "print(evens)"
   ]
  },
  {
   "cell_type": "code",
   "execution_count": 29,
   "metadata": {},
   "outputs": [
    {
     "name": "stdout",
     "output_type": "stream",
     "text": [
      "40320\n"
     ]
    }
   ],
   "source": [
    "#reduce\n",
    "def multiply(x, y):\n",
    "    return x*y\n",
    "from functools import reduce\n",
    "ys = [1,2,3,4,5,6,7,8]\n",
    "y_product = reduce(multiply, ys)\n",
    "print(y_product)"
   ]
  },
  {
   "cell_type": "code",
   "execution_count": 30,
   "metadata": {},
   "outputs": [
    {
     "name": "stdout",
     "output_type": "stream",
     "text": [
      "0 : 1\n",
      "1 : 2\n",
      "2 : 3\n",
      "3 : 4\n",
      "4 : 5\n",
      "5 : 6\n",
      "6 : 7\n",
      "7 : 8\n",
      "8 : 9\n",
      "9 : 0\n"
     ]
    }
   ],
   "source": [
    "'''ENUMERATE'''\n",
    "x = [1,2,3,4,5,6,7,8,9,0]\n",
    "for i, values in enumerate(x):\n",
    "    print(i, \":\", values)"
   ]
  },
  {
   "cell_type": "code",
   "execution_count": 34,
   "metadata": {},
   "outputs": [],
   "source": [
    "'''Argument packing and unpacking'''\n",
    "list1 = ['a', 'b', 'c']\n",
    "list2 = ['1', '2', '3']\n",
    "paired = zip(list1, list2)\n",
    "#print(paired)\n",
    "\n",
    "#unpacking\n",
    "pairs = [('a', 1), ('b', 2), ('c', 3)]\n",
    "letters, numbers = zip(*pairs)\n",
    "#print(letters)"
   ]
  },
  {
   "cell_type": "code",
   "execution_count": 38,
   "metadata": {},
   "outputs": [
    {
     "name": "stdout",
     "output_type": "stream",
     "text": [
      "6\n"
     ]
    }
   ],
   "source": [
    "'''ARGS AND KWARGS'''\n",
    "def other_way_magic(x, y, z):\n",
    "    return x + y + z\n",
    "x_y_list = [1, 2]\n",
    "z_dict = { \"z\" : 3 }\n",
    "print(other_way_magic(*x_y_list, **z_dict))"
   ]
  },
  {
   "cell_type": "code",
   "execution_count": null,
   "metadata": {},
   "outputs": [],
   "source": []
  }
 ],
 "metadata": {
  "kernelspec": {
   "display_name": "Python 3",
   "language": "python",
   "name": "python3"
  },
  "language_info": {
   "codemirror_mode": {
    "name": "ipython",
    "version": 3
   },
   "file_extension": ".py",
   "mimetype": "text/x-python",
   "name": "python",
   "nbconvert_exporter": "python",
   "pygments_lexer": "ipython3",
   "version": "3.6.2"
  }
 },
 "nbformat": 4,
 "nbformat_minor": 2
}
